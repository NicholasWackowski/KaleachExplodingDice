{
 "cells": [
  {
   "cell_type": "code",
   "execution_count": 7,
   "metadata": {},
   "outputs": [],
   "source": [
    "# Nicholas Wackowski, 8/9/2020\n",
    "# Using a combination of the Great Weapon Master and Exploding Dice mechanics,\n",
    "# this code simulates rolling damage rolls for the BBEG of my campaign so that\n",
    "# it is automated and much quicker.\n",
    "\n",
    "# First 3d4 are rolled, then they are linearly evaluated. First check if the \n",
    "# die is a 1 or 2, replace that entry with a new d4 result. Then, if the\n",
    "# result was a '4', push another d4 onto the stack.\n",
    "# Once the whole stack is verified, return the sum.\n",
    "\n",
    "import random\n",
    "from datetime import datetime\n",
    "random.seed(datetime.now())"
   ]
  },
  {
   "cell_type": "code",
   "execution_count": 117,
   "metadata": {},
   "outputs": [],
   "source": [
    "# Return a random number from [1-4]\n",
    "def rolld4():\n",
    "    return random.randrange(4)+1\n",
    "\n",
    "# Return a random number from [1-6]\n",
    "def rolld6():\n",
    "    return random.randrange(6)+1\n",
    "\n",
    "def rollDamage(isCrit, slashingDamage, psychicDamage):\n",
    "    damageRolls = []\n",
    "    \n",
    "    # The default number of dice rolled\n",
    "    numd4 = 3\n",
    "    numd6 = 2\n",
    "    \n",
    "    # If the attack is a critical, change num dice rolled\n",
    "    if(isCrit):\n",
    "        numd4 = 6\n",
    "        numd6 = 4\n",
    "        \n",
    "    # Roll the initial d4's\n",
    "    for x in range(0, numd4):\n",
    "        damageRolls.append(rolld4())\n",
    "        \n",
    "    # Linearly evaluate each die.\n",
    "    for index, die in enumerate(damageRolls):\n",
    "        # If 1 or 2, reroll and replace\n",
    "        if(die == 1 or die == 2):\n",
    "            damageRolls[index] = rolld4()\n",
    "        # If 4, append a new roll to the list\n",
    "        if(damageRolls[index] == 4):\n",
    "            damageRolls.append(rolld4())\n",
    "    \n",
    "    # Add the psychic damage (2d6 by default)\n",
    "    # (not affected by exploding dice or HWM)\n",
    "    for x in range(0, numd6):\n",
    "        damageRolls.append(rolld6())\n",
    "    print(damageRolls)\n",
    "    return sum(damageRolls)+modifier"
   ]
  },
  {
   "cell_type": "code",
   "execution_count": 119,
   "metadata": {},
   "outputs": [],
   "source": [
    "def main():\n",
    "    STR = 4 # Strength modifier\n",
    "    ENH = 3 # Enchancement bonus to damage\n",
    "    CHA = 5 # CHA bonus to damage\n",
    "    rollDamage(isCrit=False, slashingDamage=STR+ENH, psychicDamage=CHA)\n",
    "    \n",
    "main()"
   ]
  }
 ],
 "metadata": {
  "kernelspec": {
   "display_name": "Python 3",
   "language": "python",
   "name": "python3"
  },
  "language_info": {
   "codemirror_mode": {
    "name": "ipython",
    "version": 3
   },
   "file_extension": ".py",
   "mimetype": "text/x-python",
   "name": "python",
   "nbconvert_exporter": "python",
   "pygments_lexer": "ipython3",
   "version": "3.7.4"
  }
 },
 "nbformat": 4,
 "nbformat_minor": 2
}
