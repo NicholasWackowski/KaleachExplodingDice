{
 "cells": [
  {
   "cell_type": "code",
   "execution_count": 7,
   "metadata": {},
   "outputs": [],
   "source": [
    "# Nicholas Wackowski, 8/9/2020\n",
    "# Using a combination of the Great Weapon Master and Exploding Dice mechanics,\n",
    "# this code simulates rolling damage rolls for the BBEG of my campaign so that\n",
    "# it is automated and much quicker.\n",
    "\n",
    "# First 3d4 are rolled, then they are linearly evaluated. First check if the \n",
    "# die is a 1 or 2, replace that entry with a new d4 result. Then, if the\n",
    "# result was a '4', push another d4 onto the stack.\n",
    "# Once the whole stack is verified, return the sum.\n",
    "\n",
    "import random\n",
    "from datetime import datetime\n",
    "random.seed(datetime.now())"
   ]
  },
  {
   "cell_type": "code",
   "execution_count": 100,
   "metadata": {},
   "outputs": [],
   "source": [
    "# Return a random number from [1-4]\n",
    "def rolld4():\n",
    "    return random.randrange(4)+1\n",
    "\n",
    "def rollDamage(numDice, modifier):\n",
    "    damageRolls = []\n",
    "    for x in range(0, numDice):\n",
    "        damageRolls.append(rolld4())\n",
    "    for index, die in enumerate(damageRolls):\n",
    "        if(die == 1 or die == 2):\n",
    "            damageRolls[index] = rolld4()\n",
    "        if(damageRolls[index] == 4):\n",
    "            newRoll = rolld4()\n",
    "            damageRolls.append(newRoll)\n",
    "    print(damageRolls)\n",
    "    return sum(damageRolls)+modifier"
   ]
  },
  {
   "cell_type": "code",
   "execution_count": 116,
   "metadata": {},
   "outputs": [
    {
     "name": "stdout",
     "output_type": "stream",
     "text": [
      "[4, 4, 3, 4, 1, 4, 3]\n"
     ]
    },
    {
     "data": {
      "text/plain": [
       "28"
      ]
     },
     "execution_count": 116,
     "metadata": {},
     "output_type": "execute_result"
    }
   ],
   "source": [
    "rollDamage(3, 5)"
   ]
  }
 ],
 "metadata": {
  "kernelspec": {
   "display_name": "Python 3",
   "language": "python",
   "name": "python3"
  },
  "language_info": {
   "codemirror_mode": {
    "name": "ipython",
    "version": 3
   },
   "file_extension": ".py",
   "mimetype": "text/x-python",
   "name": "python",
   "nbconvert_exporter": "python",
   "pygments_lexer": "ipython3",
   "version": "3.7.4"
  }
 },
 "nbformat": 4,
 "nbformat_minor": 2
}
