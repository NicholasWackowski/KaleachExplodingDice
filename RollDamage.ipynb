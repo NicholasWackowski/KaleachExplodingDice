{
 "cells": [
  {
   "cell_type": "code",
   "execution_count": 1,
   "metadata": {},
   "outputs": [],
   "source": [
    "# Nicholas Wackowski, 8/9/2020\n",
    "# Using a combination of the Great Weapon Master and Exploding Dice mechanics,\n",
    "# this code simulates rolling damage rolls for the BBEG of my campaign so that\n",
    "# it is automated and much quicker.\n",
    "\n",
    "# First 3d4 are rolled, then they are linearly evaluated. First check if the \n",
    "# die is a 1 or 2, replace that entry with a new d4 result. Then, if the\n",
    "# result was a '4', push another d4 onto the stack.\n",
    "# Once the whole stack is verified, return the sum.\n",
    "\n",
    "import random\n",
    "from datetime import datetime\n",
    "random.seed(datetime.now())"
   ]
  },
  {
   "cell_type": "code",
   "execution_count": 32,
   "metadata": {},
   "outputs": [],
   "source": [
    "# Return a random number from [1-4]\n",
    "def rolld4():\n",
    "    return random.randrange(4)+1\n",
    "\n",
    "# Return a random number from [1-6]\n",
    "def rolld6():\n",
    "    return random.randrange(6)+1\n",
    "\n",
    "def rollDamage(isCrit, slashingMod, psychicMod):\n",
    "    damageRolls = []\n",
    "    \n",
    "    # The default number of dice rolled\n",
    "    numd4 = 3\n",
    "    numd6 = 2\n",
    "    \n",
    "    # If the attack is a critical, change num dice rolled\n",
    "    if(isCrit):\n",
    "        numd4 = 6\n",
    "        numd6 = 4\n",
    "        \n",
    "    # Roll the initial d4's\n",
    "    for x in range(0, numd4):\n",
    "        damageRolls.append(rolld4())\n",
    "        \n",
    "    # Linearly evaluate each die.\n",
    "    for index, die in enumerate(damageRolls):\n",
    "        # If 1 or 2, reroll and replace\n",
    "        if(die == 1 or die == 2):\n",
    "            damageRolls[index] = rolld4()\n",
    "        # If 4, append a new roll to the list\n",
    "        if(damageRolls[index] == 4):\n",
    "            damageRolls.append(rolld4())\n",
    "    slashingDamage = sum(damageRolls)+slashingMod\n",
    "    \n",
    "    # Add the psychic damage (2d6 by default)\n",
    "    # (not affected by exploding dice or HWM)\n",
    "    psychicDamageRolls = []\n",
    "    for x in range(0, numd6):\n",
    "        psychicDamageRolls.append(rolld6())\n",
    "    psychicDamage = sum(psychicDamageRolls)+psychicMod\n",
    "    totalDamage = slashingDamage+psychicDamage\n",
    "    \n",
    "    if(isCrit == True):\n",
    "        print(\"--- CRITICAL! ---\")\n",
    "    else:\n",
    "        print(\"---  --- ---  ---\")\n",
    "    print(damageRolls, psychicDamageRolls)\n",
    "    print(\"Total damage:\", totalDamage)\n",
    "    print(\"Slashing:\", slashingDamage)\n",
    "    print(\"Psychic:\", psychicDamage)\n",
    "    print(\"\")\n",
    "    return sum(damageRolls)+sum(psychicDamageRolls)+slashingDamage+psychicDamage"
   ]
  },
  {
   "cell_type": "code",
   "execution_count": 37,
   "metadata": {},
   "outputs": [
    {
     "name": "stdout",
     "output_type": "stream",
     "text": [
      "---  --- ---  ---\n",
      "[1, 3, 3] [1, 3]\n",
      "Total damage: 23\n",
      "Slashing: 14\n",
      "Psychic: 9\n",
      "\n",
      "---  --- ---  ---\n",
      "[3, 3, 3] [2, 2]\n",
      "Total damage: 25\n",
      "Slashing: 16\n",
      "Psychic: 9\n",
      "\n",
      "---  --- ---  ---\n",
      "[3, 3, 3] [6, 2]\n",
      "Total damage: 29\n",
      "Slashing: 16\n",
      "Psychic: 13\n",
      "\n",
      "---  --- ---  ---\n",
      "[4, 3, 4, 2, 3] [3, 5]\n",
      "Total damage: 36\n",
      "Slashing: 23\n",
      "Psychic: 13\n",
      "\n"
     ]
    }
   ],
   "source": [
    "def main(numHits=1, numCrits=0):\n",
    "    STR = 4 # Strength modifier\n",
    "    ENH = 3 # Enchancement bonus to damage\n",
    "    CHA = 5 # CHA bonus to damage\n",
    "    \n",
    "    for x in range(0, numHits):\n",
    "        rollDamage(isCrit=False, slashingMod=STR+ENH, psychicMod=CHA)\n",
    "        \n",
    "    for x in range(0, numCrits):\n",
    "        rollDamage(isCrit=True, slashingMod=STR+ENH, psychicMod=CHA)\n",
    "    \n",
    "main(numHits=4, numCrits=0)"
   ]
  },
  {
   "cell_type": "code",
   "execution_count": 18,
   "metadata": {},
   "outputs": [
    {
     "name": "stdout",
     "output_type": "stream",
     "text": [
      "Total: 54781788\n",
      "Avg: 54.78184278184278\n"
     ]
    }
   ],
   "source": [
    "#The average appears to be ~54.78 damage\n",
    "def calcAverage(numTimes):\n",
    "    STR = 4 # Strength modifier\n",
    "    ENH = 3 # Enchancement bonus to damage\n",
    "    CHA = 5 # CHA bonus to damage\n",
    "    total = 0\n",
    "    for x in range(0, numTimes):\n",
    "        total += rollDamage(isCrit=False, slashingMod=STR+ENH, psychicMod=CHA)\n",
    "    print(\"Total:\", total)\n",
    "    print(\"Avg:\", total/numTimes)\n",
    "    \n",
    "# calcAverage(999999) # (Un-comment only if you want to run the function; it can take a couple minutes)"
   ]
  },
  {
   "cell_type": "code",
   "execution_count": null,
   "metadata": {},
   "outputs": [],
   "source": []
  }
 ],
 "metadata": {
  "kernelspec": {
   "display_name": "Python 3",
   "language": "python",
   "name": "python3"
  },
  "language_info": {
   "codemirror_mode": {
    "name": "ipython",
    "version": 3
   },
   "file_extension": ".py",
   "mimetype": "text/x-python",
   "name": "python",
   "nbconvert_exporter": "python",
   "pygments_lexer": "ipython3",
   "version": "3.7.4"
  }
 },
 "nbformat": 4,
 "nbformat_minor": 2
}
