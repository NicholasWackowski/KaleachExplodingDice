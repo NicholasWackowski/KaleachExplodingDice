{
 "cells": [
  {
   "cell_type": "code",
   "execution_count": 7,
   "metadata": {},
   "outputs": [],
   "source": [
    "# Nicholas Wackowski, 8/9/2020\n",
    "# Using a combination of the Great Weapon Master and Exploding Dice mechanics,\n",
    "# this code simulates rolling damage rolls for the BBEG of my campaign so that\n",
    "# it is automated and much quicker.\n",
    "\n",
    "# First 3d4 are rolled, then they are linearly evaluated. First check if the \n",
    "# die is a 1 or 2, replace that entry with a new d4 result. Then, if the\n",
    "# result was a '4', push another d4 onto the stack.\n",
    "# Once the whole stack is verified, return the sum.\n",
    "\n",
    "import random\n",
    "from datetime import datetime\n",
    "random.seed(datetime.now())"
   ]
  },
  {
   "cell_type": "code",
   "execution_count": 121,
   "metadata": {},
   "outputs": [],
   "source": [
    "# Return a random number from [1-4]\n",
    "def rolld4():\n",
    "    return random.randrange(4)+1\n",
    "\n",
    "# Return a random number from [1-6]\n",
    "def rolld6():\n",
    "    return random.randrange(6)+1\n",
    "\n",
    "def rollDamage(isCrit, slashingMod, psychicMod):\n",
    "    damageRolls = []\n",
    "    \n",
    "    # The default number of dice rolled\n",
    "    numd4 = 3\n",
    "    numd6 = 2\n",
    "    \n",
    "    # If the attack is a critical, change num dice rolled\n",
    "    if(isCrit):\n",
    "        numd4 = 6\n",
    "        numd6 = 4\n",
    "        \n",
    "    # Roll the initial d4's\n",
    "    for x in range(0, numd4):\n",
    "        damageRolls.append(rolld4())\n",
    "        \n",
    "    # Linearly evaluate each die.\n",
    "    for index, die in enumerate(damageRolls):\n",
    "        # If 1 or 2, reroll and replace\n",
    "        if(die == 1 or die == 2):\n",
    "            damageRolls[index] = rolld4()\n",
    "        # If 4, append a new roll to the list\n",
    "        if(damageRolls[index] == 4):\n",
    "            damageRolls.append(rolld4())\n",
    "    slashingDamage = sum(damageRolls)+slashingMod\n",
    "    \n",
    "    # Add the psychic damage (2d6 by default)\n",
    "    # (not affected by exploding dice or HWM)\n",
    "    psychicDamageRolls = []\n",
    "    for x in range(0, numd6):\n",
    "        psychicDamageRolls.append(rolld6())\n",
    "    psychicDamage = sum(psychicDamageRolls)+psychicMod\n",
    "    totalDamage = slashingDamage+psychicDamage\n",
    "    print(\"Total damage:\", totalDamage)\n",
    "    print(\"Slashing:\", slashingDamage)\n",
    "    print(\"Psychic:\", psychicDamage)\n",
    "    return sum(damageRolls)+sum(psychicDamageRolls)+slashingDamage+psychicDamage"
   ]
  },
  {
   "cell_type": "code",
   "execution_count": 122,
   "metadata": {},
   "outputs": [
    {
     "ename": "NameError",
     "evalue": "name 'psychicDamageRolls' is not defined",
     "output_type": "error",
     "traceback": [
      "\u001b[1;31m---------------------------------------------------------------------------\u001b[0m",
      "\u001b[1;31mNameError\u001b[0m                                 Traceback (most recent call last)",
      "\u001b[1;32m<ipython-input-122-1a76c4e99e3a>\u001b[0m in \u001b[0;36m<module>\u001b[1;34m\u001b[0m\n\u001b[0;32m      5\u001b[0m     \u001b[0mrollDamage\u001b[0m\u001b[1;33m(\u001b[0m\u001b[0misCrit\u001b[0m\u001b[1;33m=\u001b[0m\u001b[1;32mFalse\u001b[0m\u001b[1;33m,\u001b[0m \u001b[0mslashingMod\u001b[0m\u001b[1;33m=\u001b[0m\u001b[0mSTR\u001b[0m\u001b[1;33m+\u001b[0m\u001b[0mENH\u001b[0m\u001b[1;33m,\u001b[0m \u001b[0mpsychicMod\u001b[0m\u001b[1;33m=\u001b[0m\u001b[0mCHA\u001b[0m\u001b[1;33m)\u001b[0m\u001b[1;33m\u001b[0m\u001b[1;33m\u001b[0m\u001b[0m\n\u001b[0;32m      6\u001b[0m \u001b[1;33m\u001b[0m\u001b[0m\n\u001b[1;32m----> 7\u001b[1;33m \u001b[0mmain\u001b[0m\u001b[1;33m(\u001b[0m\u001b[1;33m)\u001b[0m\u001b[1;33m\u001b[0m\u001b[1;33m\u001b[0m\u001b[0m\n\u001b[0m",
      "\u001b[1;32m<ipython-input-122-1a76c4e99e3a>\u001b[0m in \u001b[0;36mmain\u001b[1;34m()\u001b[0m\n\u001b[0;32m      3\u001b[0m     \u001b[0mENH\u001b[0m \u001b[1;33m=\u001b[0m \u001b[1;36m3\u001b[0m \u001b[1;31m# Enchancement bonus to damage\u001b[0m\u001b[1;33m\u001b[0m\u001b[1;33m\u001b[0m\u001b[0m\n\u001b[0;32m      4\u001b[0m     \u001b[0mCHA\u001b[0m \u001b[1;33m=\u001b[0m \u001b[1;36m5\u001b[0m \u001b[1;31m# CHA bonus to damage\u001b[0m\u001b[1;33m\u001b[0m\u001b[1;33m\u001b[0m\u001b[0m\n\u001b[1;32m----> 5\u001b[1;33m     \u001b[0mrollDamage\u001b[0m\u001b[1;33m(\u001b[0m\u001b[0misCrit\u001b[0m\u001b[1;33m=\u001b[0m\u001b[1;32mFalse\u001b[0m\u001b[1;33m,\u001b[0m \u001b[0mslashingMod\u001b[0m\u001b[1;33m=\u001b[0m\u001b[0mSTR\u001b[0m\u001b[1;33m+\u001b[0m\u001b[0mENH\u001b[0m\u001b[1;33m,\u001b[0m \u001b[0mpsychicMod\u001b[0m\u001b[1;33m=\u001b[0m\u001b[0mCHA\u001b[0m\u001b[1;33m)\u001b[0m\u001b[1;33m\u001b[0m\u001b[1;33m\u001b[0m\u001b[0m\n\u001b[0m\u001b[0;32m      6\u001b[0m \u001b[1;33m\u001b[0m\u001b[0m\n\u001b[0;32m      7\u001b[0m \u001b[0mmain\u001b[0m\u001b[1;33m(\u001b[0m\u001b[1;33m)\u001b[0m\u001b[1;33m\u001b[0m\u001b[1;33m\u001b[0m\u001b[0m\n",
      "\u001b[1;32m<ipython-input-121-eaeca334070f>\u001b[0m in \u001b[0;36mrollDamage\u001b[1;34m(isCrit, slashingMod, psychicMod)\u001b[0m\n\u001b[0;32m     36\u001b[0m     \u001b[1;31m# (not affected by exploding dice or HWM)\u001b[0m\u001b[1;33m\u001b[0m\u001b[1;33m\u001b[0m\u001b[1;33m\u001b[0m\u001b[0m\n\u001b[0;32m     37\u001b[0m     \u001b[1;32mfor\u001b[0m \u001b[0mx\u001b[0m \u001b[1;32min\u001b[0m \u001b[0mrange\u001b[0m\u001b[1;33m(\u001b[0m\u001b[1;36m0\u001b[0m\u001b[1;33m,\u001b[0m \u001b[0mnumd6\u001b[0m\u001b[1;33m)\u001b[0m\u001b[1;33m:\u001b[0m\u001b[1;33m\u001b[0m\u001b[1;33m\u001b[0m\u001b[0m\n\u001b[1;32m---> 38\u001b[1;33m         \u001b[0mpsychicDamageRolls\u001b[0m\u001b[1;33m.\u001b[0m\u001b[0mappend\u001b[0m\u001b[1;33m(\u001b[0m\u001b[0mrolld6\u001b[0m\u001b[1;33m(\u001b[0m\u001b[1;33m)\u001b[0m\u001b[1;33m)\u001b[0m\u001b[1;33m\u001b[0m\u001b[1;33m\u001b[0m\u001b[0m\n\u001b[0m\u001b[0;32m     39\u001b[0m     \u001b[0mpsychicDamage\u001b[0m \u001b[1;33m=\u001b[0m \u001b[0msum\u001b[0m\u001b[1;33m(\u001b[0m\u001b[0mpsychicDamageRolls\u001b[0m\u001b[1;33m)\u001b[0m\u001b[1;33m+\u001b[0m\u001b[0mpsychicMod\u001b[0m\u001b[1;33m\u001b[0m\u001b[1;33m\u001b[0m\u001b[0m\n\u001b[0;32m     40\u001b[0m     \u001b[0mtotalDamage\u001b[0m \u001b[1;33m=\u001b[0m \u001b[0mslashingDamage\u001b[0m\u001b[1;33m+\u001b[0m\u001b[0mpsychicDamage\u001b[0m\u001b[1;33m\u001b[0m\u001b[1;33m\u001b[0m\u001b[0m\n",
      "\u001b[1;31mNameError\u001b[0m: name 'psychicDamageRolls' is not defined"
     ]
    }
   ],
   "source": [
    "def main():\n",
    "    STR = 4 # Strength modifier\n",
    "    ENH = 3 # Enchancement bonus to damage\n",
    "    CHA = 5 # CHA bonus to damage\n",
    "    rollDamage(isCrit=False, slashingMod=STR+ENH, psychicMod=CHA)\n",
    "    \n",
    "main()"
   ]
  }
 ],
 "metadata": {
  "kernelspec": {
   "display_name": "Python 3",
   "language": "python",
   "name": "python3"
  },
  "language_info": {
   "codemirror_mode": {
    "name": "ipython",
    "version": 3
   },
   "file_extension": ".py",
   "mimetype": "text/x-python",
   "name": "python",
   "nbconvert_exporter": "python",
   "pygments_lexer": "ipython3",
   "version": "3.7.4"
  }
 },
 "nbformat": 4,
 "nbformat_minor": 2
}
